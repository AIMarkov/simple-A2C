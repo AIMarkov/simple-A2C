{
 "cells": [
  {
   "cell_type": "code",
   "execution_count": 2,
   "metadata": {},
   "outputs": [
    {
     "name": "stderr",
     "output_type": "stream",
     "text": [
      "Using TensorFlow backend.\n"
     ]
    }
   ],
   "source": [
    "import gym\n",
    "import numpy as np\n",
    "import keras\n",
    "import random\n",
    "from __future__ import print_function\n",
    "\n",
    "from keras.preprocessing.image import ImageDataGenerator\n",
    "from keras.models import Sequential\n",
    "from keras.layers import Dense, Dropout, Activation, Flatten\n",
    "from keras.layers import Conv2D, MaxPooling2D\n",
    "import numpy as np\n",
    "import os\n",
    "\n",
    "import matplotlib.pyplot as plt\n",
    "%matplotlib inline"
   ]
  },
  {
   "cell_type": "code",
   "execution_count": 3,
   "metadata": {},
   "outputs": [],
   "source": [
    "def to_greyscale(img): # later on, let's turn these binary\n",
    "    return np.mean(img, axis=2).astype(np.uint8)\n",
    "\n",
    "def rgb_to_gray(rgb):\n",
    "    r, g, b = rgb[:,:,0], rgb[:,:,1], rgb[:,:,2]\n",
    "    gray = 0.2989 * r + 0.5870 * g + 0.1140 * b\n",
    "\n",
    "    return gray.astype(np.uint8)\n",
    "\n",
    "def downsample(img):\n",
    "    return img[::2, ::2]\n",
    "\n",
    "def preprocess(img):\n",
    "    return rgb_to_gray(downsample(img))"
   ]
  },
  {
   "cell_type": "code",
   "execution_count": 9,
   "metadata": {},
   "outputs": [],
   "source": [
    "# We assume a theano backend here, so the \"channels\" are first.\n",
    "#ATARI_SHAPE = (4, 105, 80)\n",
    "\n",
    "# tf backend\n",
    "ATARI_SHAPE = (105, 80, 2)\n",
    "\n",
    "# With the functional API we need to define the inputs.\n",
    "frames_input = keras.layers.Input(ATARI_SHAPE, name='frames')\n",
    "#actions_input = keras.layers.Input((n_actions,), name='mask')\n",
    "\n",
    "# Assuming that the input frames are still encoded from 0 to 255. Transforming to [0, 1].\n",
    "normalized = keras.layers.Lambda(lambda x: x / 255.0)(frames_input)\n",
    "\n",
    "#still want to normalize these, although greyscaled already\n",
    "\n",
    "# \"The first hidden layer convolves 16 8×8 filters with stride 4 with the input image and applies a rectifier nonlinearity.\"\n",
    "conv_1 = keras.layers.convolutional.Convolution2D(\n",
    "    16, 8, 8, subsample=(4, 4), activation='relu'\n",
    ")(normalized)\n",
    "# \"The second hidden layer convolves 32 4×4 filters with stride 2, again followed by a rectifier nonlinearity.\"\n",
    "conv_2 = keras.layers.convolutional.Convolution2D(\n",
    "    32, 4, 4, subsample=(2, 2), activation='relu'\n",
    ")(conv_1)\n",
    "# Flattening the second convolutional layer.\n",
    "conv_flattened = keras.layers.core.Flatten()(conv_2)\n",
    "\n",
    "# \"The final hidden layer is fully-connected and consists of 256 rectifier units.\"\n",
    "hidden = keras.layers.Dense(256, activation='relu')(conv_flattened)\n",
    "\n",
    "# \"The output layer is a fully-connected linear layer with a single output for each valid action.\"\n",
    "output = keras.layers.Dense(4)(hidden) # number of actions\n",
    "\n",
    "#model = keras.models.Model(input=[frames_input, actions_input], output=filtered_output)\n",
    "atari_model = keras.models.Model(input=frames_input, output=output)\n",
    "optimizer = optimizer=keras.optimizers.RMSprop(lr=0.00025, rho=0.95, epsilon=0.01)\n",
    "atari_model.compile(optimizer, loss='mse')"
   ]
  },
  {
   "cell_type": "code",
   "execution_count": 47,
   "metadata": {},
   "outputs": [],
   "source": [
    "env = gym.make(\"BreakoutDeterministic-v4\")\n",
    "\n",
    "gamma = 0.9\n",
    "buffer = 10\n",
    "batchSize = 5\n",
    "\n",
    "rewards = []\n",
    "\n",
    "replay = []\n",
    "h = 0\n",
    "\n",
    "model = atari_model"
   ]
  },
  {
   "cell_type": "code",
   "execution_count": 48,
   "metadata": {},
   "outputs": [
    {
     "data": {
      "text/plain": [
       "array([[ 0.02665349,  0.05500542,  0.00534342,  0.06971099]], dtype=float32)"
      ]
     },
     "execution_count": 48,
     "metadata": {},
     "output_type": "execute_result"
    },
    {
     "data": {
      "image/png": "[encoded data removed]",
      "text/plain": [
       "<matplotlib.figure.Figure at 0x7f37d003d208>"
      ]
     },
     "metadata": {},
     "output_type": "display_data"
    }
   ],
   "source": [
    "frame_old = env.reset()\n",
    "frame_new, reward, is_done, _ = env.step(env.action_space.sample())\n",
    "\n",
    "state = np.array([preprocess(frame_old), preprocess(frame_new)]).reshape(105, 80, 2)\n",
    "\n",
    "plt.imshow(preprocess(frame_old), cmap=\"gray\")\n",
    "\n",
    "model.predict(state.reshape(1,105, 80, 2), batch_size=1)"
   ]
  },
  {
   "cell_type": "code",
   "execution_count": 49,
   "metadata": {},
   "outputs": [],
   "source": [
    "#for i in range(1):\n",
    "    \n",
    "# doing first two steps here to get enough for initial state\n",
    "frame_old = env.reset()\n",
    "\n",
    "frame_new, reward, is_done, _ = env.step(env.action_space.sample())"
   ]
  },
  {
   "cell_type": "code",
   "execution_count": 63,
   "metadata": {
    "scrolled": true
   },
   "outputs": [
    {
     "name": "stdout",
     "output_type": "stream",
     "text": [
      "old qvals [[ 0.02673113  0.05583856  0.00412825  0.07209937]]\n",
      "action 2\n",
      "reward:  0.0\n",
      "new q vals  [[ 0.03031209  0.0516838   0.00247532  0.06591244]]\n",
      "update 0.0593211963773\n",
      "fitting with the following y: [[ 0.02673113  0.05583856  0.0593212   0.07209937]] \n",
      "\n",
      "\n",
      "old qvals [[ 0.02254781  0.05856476  0.00585566  0.07378579]]\n",
      "action 3\n",
      "reward:  0.0\n",
      "new q vals  [[ 0.02314461  0.05553666  0.00415644  0.07224889]]\n",
      "update 0.0650240018964\n",
      "fitting with the following y: [[ 0.02254781  0.05856476  0.00585566  0.065024  ]] \n",
      "\n",
      "\n",
      "old qvals [[ 0.0283627   0.05491274  0.00202576  0.06808522]]\n",
      "action 0\n",
      "reward:  0.0\n",
      "new q vals  [[ 0.02943253  0.05336015  0.0012679   0.06560936]]\n",
      "update 0.059048422426\n",
      "fitting with the following y: [[ 0.05904842  0.05491274  0.00202576  0.06808522]] \n",
      "\n",
      "\n",
      "old qvals [[ 0.02668936  0.05537083  0.00724179  0.0697626 ]]\n",
      "action 3\n",
      "reward:  0.0\n",
      "new q vals  [[ 0.0212977   0.05906335  0.00916776  0.07266382]]\n",
      "update 0.065397439152\n",
      "fitting with the following y: [[ 0.02668936  0.05537083  0.00724179  0.06539744]] \n",
      "\n",
      "\n",
      "old qvals [[ 0.02079879  0.05612491  0.00295294  0.06989734]]\n",
      "action 1\n",
      "reward:  0.0\n",
      "new q vals  [[ 0.02552857  0.05518865  0.00463092  0.07334452]]\n",
      "update 0.066010069102\n",
      "fitting with the following y: [[ 0.02079879  0.06601007  0.00295294  0.06989734]] \n",
      "\n",
      "\n",
      "Epoch 1/1\n",
      "5/5 [==============================] - 0s - loss: 2.0907e-04\n"
     ]
    },
    {
     "data": {
      "image/png": "[encoded data removed]",
      "text/plain": [
       "<matplotlib.figure.Figure at 0x7f37c8134a20>"
      ]
     },
     "metadata": {},
     "output_type": "display_data"
    }
   ],
   "source": [
    "\n",
    "#while not is_done:\n",
    "# STATE\n",
    "orig_state = np.array([preprocess(frame_old), preprocess(frame_new)]).reshape(105, 80, 2)\n",
    "\n",
    "# ACTION\n",
    "Qvals = model.predict(orig_state.reshape(1,105,80,2), batch_size=1)\n",
    "maxQ_ix = np.argmax(Qvals)\n",
    "\n",
    "frame_old = frame_new\n",
    "\n",
    "action = env.action_space.sample()\n",
    "#action = maxQ_ix\n",
    "\n",
    "# NEW STATE, REWARD\n",
    "frame_new, reward, is_done, _ = env.step(action) # totally exploratory\n",
    "\n",
    "# new state \n",
    "new_state = np.array([preprocess(frame_old), preprocess(frame_new)]).reshape(105, 80, 2)\n",
    "\n",
    "reward = np.sign(reward)\n",
    "\n",
    "#Experience replay storage\n",
    "if (len(replay) < buffer): #if buffer not filled, add to it\n",
    "    replay.append((orig_state, action, reward, new_state))\n",
    "else: \n",
    "    if (h < (buffer-1)):\n",
    "        h += 1\n",
    "    else:\n",
    "        h = 0\n",
    "\n",
    "    replay[h] = (orig_state, action, reward, new_state)\n",
    "\n",
    "    #randomly sample our experience replay memory\n",
    "    minibatch = random.sample(replay, batchSize)\n",
    "\n",
    "    X_train = []\n",
    "    y_train = []\n",
    "    for memory in minibatch:\n",
    "        #Get max_Q(S',a)\n",
    "        old_state, action, reward, new_state = memory\n",
    "        old_qval = model.predict(old_state.reshape(1,105,80,2), batch_size=1)\n",
    "\n",
    "        newQ = model.predict(new_state.reshape(1,105,80,2), batch_size=1)\n",
    "        maxQ = np.max(newQ)\n",
    "        y = np.zeros((1,4))\n",
    "        y[:] = old_qval[:]\n",
    "        update = (reward + (gamma * maxQ))\n",
    "\n",
    "        y[0][action] = update\n",
    "        X_train.append(old_state)\n",
    "        y_train.append(y)\n",
    "        \n",
    "        print(\"old qvals\", old_qval)\n",
    "        print(\"action\", action)\n",
    "        print(\"reward: \", reward)\n",
    "        print(\"new q vals \", newQ)\n",
    "        print(\"update\", update)\n",
    "        print(\"fitting with the following y:\", y, \"\\n\\n\")\n",
    "\n",
    "    X_train = np.array(X_train)\n",
    "    y_train = np.array(y_train).reshape(batchSize, 4)\n",
    "\n",
    "    #print(\"Game #: %s\" % (i,))\n",
    "    model.fit(X_train, y_train, batch_size=batchSize, epochs=1, verbose=1)\n",
    "\n",
    "env.render()\n",
    "\n",
    "\n",
    "fig,ax = plt.subplots()\n",
    "im = ax.imshow(preprocess(frame_old), cmap=\"gray\") \n",
    "#env.close()\n",
    "\n",
    "#env.render()"
   ]
  },
  {
   "cell_type": "code",
   "execution_count": 706,
   "metadata": {},
   "outputs": [
    {
     "data": {
      "text/plain": [
       "(40, 105, 80, 2)"
      ]
     },
     "execution_count": 706,
     "metadata": {},
     "output_type": "execute_result"
    }
   ],
   "source": [
    "X_train.shape"
   ]
  },
  {
   "cell_type": "code",
   "execution_count": 6,
   "metadata": {},
   "outputs": [
    {
     "name": "stderr",
     "output_type": "stream",
     "text": [
      "/home/beans/.local/lib/python3.5/site-packages/ipykernel_launcher.py:18: UserWarning: Update your `Conv2D` call to the Keras 2 API: `Conv2D(16, (8, 8), strides=(4, 4), activation=\"relu\")`\n",
      "/home/beans/.local/lib/python3.5/site-packages/ipykernel_launcher.py:22: UserWarning: Update your `Conv2D` call to the Keras 2 API: `Conv2D(32, (4, 4), strides=(2, 2), activation=\"relu\")`\n",
      "/home/beans/.local/lib/python3.5/site-packages/ipykernel_launcher.py:34: UserWarning: Update your `Model` call to the Keras 2 API: `Model(inputs=Tensor(\"fr..., outputs=Tensor(\"de...)`\n"
     ]
    }
   ],
   "source": [
    "# We assume a theano backend here, so the \"channels\" are first.\n",
    "#ATARI_SHAPE = (4, 105, 80)\n",
    "\n",
    "# tf backend\n",
    "ATARI_SHAPE = (105, 80, 2)\n",
    "\n",
    "# With the functional API we need to define the inputs.\n",
    "frames_input = keras.layers.Input(ATARI_SHAPE, name='frames')\n",
    "#actions_input = keras.layers.Input((n_actions,), name='mask')\n",
    "\n",
    "# Assuming that the input frames are still encoded from 0 to 255. Transforming to [0, 1].\n",
    "normalized = keras.layers.Lambda(lambda x: x / 255.0)(frames_input)\n",
    "\n",
    "#still want to normalize these, although greyscaled already\n",
    "\n",
    "# \"The first hidden layer convolves 16 8×8 filters with stride 4 with the input image and applies a rectifier nonlinearity.\"\n",
    "conv_1 = keras.layers.convolutional.Convolution2D(\n",
    "    16, 8, 8, subsample=(4, 4), activation='relu'\n",
    ")(normalized)\n",
    "# \"The second hidden layer convolves 32 4×4 filters with stride 2, again followed by a rectifier nonlinearity.\"\n",
    "conv_2 = keras.layers.convolutional.Convolution2D(\n",
    "    32, 4, 4, subsample=(2, 2), activation='relu'\n",
    ")(conv_1)\n",
    "# Flattening the second convolutional layer.\n",
    "conv_flattened = keras.layers.core.Flatten()(conv_2)\n",
    "\n",
    "# \"The final hidden layer is fully-connected and consists of 256 rectifier units.\"\n",
    "hidden = keras.layers.Dense(256, activation='relu')(conv_flattened)\n",
    "\n",
    "# \"The output layer is a fully-connected linear layer with a single output for each valid action.\"\n",
    "output = keras.layers.Dense(4)(hidden) # number of actions\n",
    "\n",
    "#model = keras.models.Model(input=[frames_input, actions_input], output=filtered_output)\n",
    "atari_model = keras.models.Model(input=frames_input, output=output)\n",
    "optimizer = optimizer=keras.optimizers.RMSprop(lr=0.00025, rho=0.95, epsilon=0.01)\n",
    "atari_model.compile(optimizer, loss='mse')"
   ]
  },
  {
   "cell_type": "code",
   "execution_count": null,
   "metadata": {},
   "outputs": [],
   "source": []
  }
 ],
 "metadata": {
  "kernelspec": {
   "display_name": "Python 3",
   "language": "python",
   "name": "python3"
  },
  "language_info": {
   "codemirror_mode": {
    "name": "ipython",
    "version": 3
   },
   "file_extension": ".py",
   "mimetype": "text/x-python",
   "name": "python",
   "nbconvert_exporter": "python",
   "pygments_lexer": "ipython3",
   "version": "3.5.2"
  }
 },
 "nbformat": 4,
 "nbformat_minor": 2
}
